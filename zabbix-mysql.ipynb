{
 "cells": [
  {
   "cell_type": "code",
   "execution_count": null,
   "metadata": {},
   "outputs": [],
   "source": [
    "#Algorítimo de Árvores de decisão"
   ]
  },
  {
   "cell_type": "code",
   "execution_count": null,
   "metadata": {},
   "outputs": [],
   "source": [
    "# Importação das bibliotecas\n",
    "import pandas as pd\n",
    "import requests\n",
    "import numpy as np\n",
    "import re\n",
    "import sqlalchemy\n",
    "import mysql.connector"
   ]
  },
  {
   "cell_type": "code",
   "execution_count": null,
   "metadata": {},
   "outputs": [],
   "source": [
    "conn = mysql.connector.connect(host=\"\", user=\"\", passwd=\"\", db=\"zabbix\")\n",
    "print(conn)"
   ]
  },
  {
   "cell_type": "code",
   "execution_count": null,
   "metadata": {},
   "outputs": [],
   "source": [
    "cursor = conn.cursor(dictionary=True)\n",
    "cursor.execute(\"SELECT DISTINCT p.eventid,p.name as problema,h.name,e.acknowledged,p.severity FROM problem p,functions f,items i,hosts_groups hg,hosts h,events e WHERE p.source='0' AND p.object='0' AND p.objectid=f.triggerid AND f.itemid=i.itemid AND i.hostid=hg.hostid AND i.hostid=h.hostid AND i.flags IN (0,4) AND i.status IN (0,1) AND p.eventid=e.eventid AND p.r_eventid IS NULL ORDER BY p.eventid;\")\n",
    "result = cursor.fetchall()\n",
    "\n",
    "for item in result:\n",
    "    item['problema'] = item['problema'].decode()\n",
    "    item['name'] = item['name'].decode()\n"
   ]
  },
  {
   "cell_type": "code",
   "execution_count": null,
   "metadata": {},
   "outputs": [],
   "source": [
    "zabbix = pd.DataFrame(result)\n",
    "zabbix"
   ]
  },
  {
   "cell_type": "code",
   "execution_count": null,
   "metadata": {},
   "outputs": [],
   "source": [
    "# Conversão dos atributos categóricos para atributos numéricos\n",
    "for col in zabbix.columns:\n",
    "    if zabbix[col].dtype == 'object':\n",
    "        zabbix[col] = zabbix[col].astype('category').cat.codes"
   ]
  },
  {
   "cell_type": "code",
   "execution_count": null,
   "metadata": {},
   "outputs": [],
   "source": [
    "#zabbix.head(10)"
   ]
  },
  {
   "cell_type": "code",
   "execution_count": null,
   "metadata": {},
   "outputs": [],
   "source": [
    "dados = zabbix.iloc[:,1:5].to_json(orient='split')"
   ]
  },
  {
   "cell_type": "code",
   "execution_count": null,
   "metadata": {},
   "outputs": [],
   "source": [
    "previsao = requests.post(url='http://localhost:1234/invocations', headers={'Content-Type' : 'application/json' , }, data=dados)"
   ]
  },
  {
   "cell_type": "code",
   "execution_count": null,
   "metadata": {},
   "outputs": [],
   "source": [
    "previsao"
   ]
  },
  {
   "cell_type": "code",
   "execution_count": null,
   "metadata": {
    "lines_to_next_cell": 2
   },
   "outputs": [],
   "source": [
    "zabbix.shape[0]"
   ]
  },
  {
   "cell_type": "code",
   "execution_count": null,
   "metadata": {},
   "outputs": [],
   "source": [
    "arr = zabbix.to_numpy()\n",
    "for x in range(0,zabbix.shape[0]-1):\n",
    "    if arr[x][4] != previsao.json()[x]:\n",
    "        cursor.execute(\"UPDATE problem SET severity = %s WHERE eventId = %s\", (int(previsao.json()[x]), int(arr[x][0])))\n",
    "        conn.commit()\n",
    "print('Update finalizado!')"
   ]
  },
  {
   "cell_type": "code",
   "execution_count": null,
   "metadata": {},
   "outputs": [],
   "source": []
  },
  {
   "cell_type": "code",
   "execution_count": null,
   "metadata": {},
   "outputs": [],
   "source": [
    "#cursor = conn.cursor(dictionary=True)\n",
    "cursor.execute(\"UPDATE problem SET severity = 4 WHERE eventid = 373276504;\")\n",
    "conn.commit()"
   ]
  },
  {
   "cell_type": "code",
   "execution_count": null,
   "metadata": {},
   "outputs": [],
   "source": [
    "#cursor = conn.cursor(dictionary=True)\n",
    "#cursor.execute(\"SELECT eventid,name,severity from problem where eventid = 373276504;\")\n",
    "#cursor.fetchall()"
   ]
  },
  {
   "cell_type": "markdown",
   "metadata": {},
   "source": []
  },
  {
   "cell_type": "code",
   "execution_count": null,
   "metadata": {},
   "outputs": [],
   "source": [
    "cursor.close()\n",
    "conn.close()\n",
    "print(\"Done.\")"
   ]
  }
 ],
 "metadata": {
  "jupytext": {
   "cell_metadata_filter": "-all",
   "main_language": "python",
   "notebook_metadata_filter": "-all"
  },
  "kernelspec": {
   "display_name": "Python 3",
   "language": "python",
   "name": "python3"
  },
  "language_info": {
   "codemirror_mode": {
    "name": "ipython",
    "version": 3
   },
   "file_extension": ".py",
   "mimetype": "text/x-python",
   "name": "python",
   "nbconvert_exporter": "python",
   "pygments_lexer": "ipython3",
   "version": "3.8.5"
  }
 },
 "nbformat": 4,
 "nbformat_minor": 4
}
