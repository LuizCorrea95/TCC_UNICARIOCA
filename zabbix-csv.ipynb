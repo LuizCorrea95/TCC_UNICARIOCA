{
 "cells": [
  {
   "cell_type": "code",
   "execution_count": null,
   "metadata": {},
   "outputs": [],
   "source": [
    "#Algorítimo de Árvores de decisão"
   ]
  },
  {
   "cell_type": "code",
   "execution_count": null,
   "metadata": {},
   "outputs": [],
   "source": [
    "# Importação das bibliotecas\n",
    "import pandas as pd\n",
    "from sklearn.model_selection import train_test_split\n",
    "from sklearn.ensemble import RandomForestClassifier\n",
    "from sklearn.metrics import *\n",
    "import matplotlib.pyplot as plt\n",
    "\n",
    "import mlflow\n",
    "import mlflow.sklearn"
   ]
  },
  {
   "cell_type": "code",
   "execution_count": null,
   "metadata": {},
   "outputs": [],
   "source": [
    "# Carregamento da base de dados e definição dos previsores (variáveis independentes - X) e classe (variável dependente - y)\n",
    "zabbix = pd.read_csv('teste.csv',delimiter=\";\")\n",
    "zabbix.shape"
   ]
  },
  {
   "cell_type": "code",
   "execution_count": null,
   "metadata": {},
   "outputs": [],
   "source": [
    "# Mostra o tipo das variáveis\n",
    "zabbix.dtypes"
   ]
  },
  {
   "cell_type": "code",
   "execution_count": null,
   "metadata": {},
   "outputs": [],
   "source": [
    "# Retirando as informações da tabela\n",
    "zabbix.drop('eventid', axis=1, inplace=True)\n",
    "zabbix.drop('FROM_UNIXTIME(p.clock)', axis=1, inplace=True)\n",
    "zabbix.drop('FROM_UNIXTIME(p.r_clock)', axis=1, inplace=True)\n",
    "#zabbix.shape"
   ]
  },
  {
   "cell_type": "code",
   "execution_count": null,
   "metadata": {
    "scrolled": true
   },
   "outputs": [],
   "source": [
    "zabbix.head()"
   ]
  },
  {
   "cell_type": "code",
   "execution_count": null,
   "metadata": {},
   "outputs": [],
   "source": [
    "# Conversão dos atributos categóricos para atributos numéricos\n",
    "for col in zabbix.columns:\n",
    "    if zabbix[col].dtype == 'object':\n",
    "        zabbix[col] = zabbix[col].astype('category').cat.codes"
   ]
  },
  {
   "cell_type": "code",
   "execution_count": null,
   "metadata": {},
   "outputs": [],
   "source": [
    "zabbix.head()"
   ]
  },
  {
   "cell_type": "code",
   "execution_count": null,
   "metadata": {},
   "outputs": [],
   "source": [
    "previsores = zabbix.iloc[:,0:4].values\n",
    "classe = zabbix.iloc[:,4].values"
   ]
  },
  {
   "cell_type": "code",
   "execution_count": null,
   "metadata": {},
   "outputs": [],
   "source": [
    "previsores"
   ]
  },
  {
   "cell_type": "code",
   "execution_count": null,
   "metadata": {},
   "outputs": [],
   "source": [
    "# Divisão da base de dados entre treinamento e teste. Usamos 30% para testar e 70% para treinar. Random_state = 0 para sempre obter a mesma divisão da base quando o código for executado\n",
    "X_treinamento, X_teste, y_treinamento, y_teste = train_test_split(previsores,classe,\n",
    "                                        test_size=0.5,random_state=0)"
   ]
  },
  {
   "cell_type": "code",
   "execution_count": null,
   "metadata": {},
   "outputs": [],
   "source": [
    "def treina_rf(n_estimators):\n",
    "    mlflow.set_experiment(\"zbxexperimento\")\n",
    "    with mlflow.start_run():\n",
    "        arvore = RandomForestClassifier(n_estimators=n_estimators)\n",
    "        arvore.fit(X_treinamento, y_treinamento)\n",
    "        previsoes = arvore.predict(X_teste) \n",
    "\n",
    "        #log de hiper parametros\n",
    "        mlflow.log_param(\"n_estimators\", n_estimators)    \n",
    "    \n",
    "        #métrica\n",
    "        acuracia = accuracy_score(y_teste, previsoes)\n",
    "    \n",
    "        #registrar métrica\n",
    "        mlflow.log_metric(\"acuracia\",acuracia)\n",
    "    \n",
    "        #gráfico\n",
    "        confusion = plot_confusion_matrix(arvore, X_teste, y_teste)\n",
    "        plt.savefig(\"confusion.png\")\n",
    "    \n",
    "        #logar gráfico\n",
    "        mlflow.log_artifact(\"confusion.png\")\n",
    "    \n",
    "        #modelo\n",
    "        mlflow.sklearn.log_model(arvore,\"ModeloZBX\")\n",
    "    \n",
    "    \n",
    "        #informações da execução\n",
    "        print(\"Modelo: \", mlflow.active_run().info.run_uuid)    \n",
    "    mlflow.end_run()"
   ]
  },
  {
   "cell_type": "code",
   "execution_count": null,
   "metadata": {},
   "outputs": [],
   "source": [
    "arvores = [20,80,600,4000,8000,50000,100000]\n",
    "for n in arvores:\n",
    "    treina_rf(n)"
   ]
  }
 ],
 "metadata": {
  "jupytext": {
   "cell_metadata_filter": "-all",
   "main_language": "python",
   "notebook_metadata_filter": "-all"
  },
  "kernelspec": {
   "display_name": "Python 3",
   "language": "python",
   "name": "python3"
  },
  "language_info": {
   "codemirror_mode": {
    "name": "ipython",
    "version": 3
   },
   "file_extension": ".py",
   "mimetype": "text/x-python",
   "name": "python",
   "nbconvert_exporter": "python",
   "pygments_lexer": "ipython3",
   "version": "3.8.5"
  }
 },
 "nbformat": 4,
 "nbformat_minor": 4
}
